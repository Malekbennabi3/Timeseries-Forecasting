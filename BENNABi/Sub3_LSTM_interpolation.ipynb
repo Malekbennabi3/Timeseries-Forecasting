{
  "cells": [
    {
      "cell_type": "markdown",
      "metadata": {
        "id": "PFr-0J9C7E8k"
      },
      "source": [
        "### Stock Market Prediction And Forecasting Using  LSTM Jupyter notebook"
      ]
    },
    {
      "cell_type": "markdown",
      "metadata": {
        "id": "ZMId9W0B7E8u"
      },
      "source": [
        "## Stock Prediction :\n",
        "Take stock price of any company you\n",
        "want and predicts its price by using LSTM.\n",
        "Use only Jupyter notebook code."
      ]
    },
    {
      "cell_type": "code",
      "execution_count": 10,
      "metadata": {
        "id": "ijZIWC4H7E8v"
      },
      "outputs": [],
      "source": [
        "# =============================================================================\n",
        "# Importing the libraries\n",
        "# =============================================================================\n",
        "import numpy as np # Data Handling\n",
        "import matplotlib.pyplot as plt # Data Visualization\n",
        "import pandas as pd # # Data Handling\n",
        "import os # Working Directory\n",
        "from sklearn.preprocessing import LabelEncoder, OneHotEncoder # Transformation of Categorical columns into Numerical Values\n",
        "from sklearn.compose import ColumnTransformer # Transformation same as level encoding and one hotencoding\n",
        "from sklearn.model_selection import train_test_split # Splitting Data into Train & Test\n",
        "from sklearn.preprocessing import StandardScaler # Neural Networks --> generally standarize the data\n",
        "from sklearn.metrics import confusion_matrix # Model Evaluation\n",
        "from sklearn.metrics import classification_report # Model Evaluation\n",
        "import keras # Deep Learning Framework\n",
        "from keras.models import Sequential # Adding layers in the Neural Network\n",
        "from keras.layers import Dense # Adding layers in the Neural Network"
      ]
    },
    {
      "cell_type": "code",
      "execution_count": 11,
      "metadata": {
        "id": "jeNbgPdM7E8v"
      },
      "outputs": [],
      "source": [
        "# =============================================================================\n",
        "# Importing the dataset\n",
        "# =============================================================================\n",
        "df = pd.read_csv('/content/sample_data/date_6_interpol.csv')\n"
      ]
    },
    {
      "cell_type": "code",
      "execution_count": 12,
      "metadata": {
        "colab": {
          "base_uri": "https://localhost:8080/",
          "height": 206
        },
        "id": "oCncFASG7E8w",
        "outputId": "88d5ef6b-7ee2-465c-da47-6a89dbe04339"
      },
      "outputs": [
        {
          "output_type": "execute_result",
          "data": {
            "text/plain": [
              "               date       val\n",
              "0  01/01/1990 00:00  0.525486\n",
              "1  01/02/1990 00:00  0.523972\n",
              "2  01/03/1990 00:00  0.526316\n",
              "3  01/04/1990 00:00  0.523834\n",
              "4  01/05/1990 00:00  0.527426"
            ],
            "text/html": [
              "\n",
              "  <div id=\"df-5f630370-6d4f-4bc8-9674-a89824820fce\" class=\"colab-df-container\">\n",
              "    <div>\n",
              "<style scoped>\n",
              "    .dataframe tbody tr th:only-of-type {\n",
              "        vertical-align: middle;\n",
              "    }\n",
              "\n",
              "    .dataframe tbody tr th {\n",
              "        vertical-align: top;\n",
              "    }\n",
              "\n",
              "    .dataframe thead th {\n",
              "        text-align: right;\n",
              "    }\n",
              "</style>\n",
              "<table border=\"1\" class=\"dataframe\">\n",
              "  <thead>\n",
              "    <tr style=\"text-align: right;\">\n",
              "      <th></th>\n",
              "      <th>date</th>\n",
              "      <th>val</th>\n",
              "    </tr>\n",
              "  </thead>\n",
              "  <tbody>\n",
              "    <tr>\n",
              "      <th>0</th>\n",
              "      <td>01/01/1990 00:00</td>\n",
              "      <td>0.525486</td>\n",
              "    </tr>\n",
              "    <tr>\n",
              "      <th>1</th>\n",
              "      <td>01/02/1990 00:00</td>\n",
              "      <td>0.523972</td>\n",
              "    </tr>\n",
              "    <tr>\n",
              "      <th>2</th>\n",
              "      <td>01/03/1990 00:00</td>\n",
              "      <td>0.526316</td>\n",
              "    </tr>\n",
              "    <tr>\n",
              "      <th>3</th>\n",
              "      <td>01/04/1990 00:00</td>\n",
              "      <td>0.523834</td>\n",
              "    </tr>\n",
              "    <tr>\n",
              "      <th>4</th>\n",
              "      <td>01/05/1990 00:00</td>\n",
              "      <td>0.527426</td>\n",
              "    </tr>\n",
              "  </tbody>\n",
              "</table>\n",
              "</div>\n",
              "    <div class=\"colab-df-buttons\">\n",
              "\n",
              "  <div class=\"colab-df-container\">\n",
              "    <button class=\"colab-df-convert\" onclick=\"convertToInteractive('df-5f630370-6d4f-4bc8-9674-a89824820fce')\"\n",
              "            title=\"Convert this dataframe to an interactive table.\"\n",
              "            style=\"display:none;\">\n",
              "\n",
              "  <svg xmlns=\"http://www.w3.org/2000/svg\" height=\"24px\" viewBox=\"0 -960 960 960\">\n",
              "    <path d=\"M120-120v-720h720v720H120Zm60-500h600v-160H180v160Zm220 220h160v-160H400v160Zm0 220h160v-160H400v160ZM180-400h160v-160H180v160Zm440 0h160v-160H620v160ZM180-180h160v-160H180v160Zm440 0h160v-160H620v160Z\"/>\n",
              "  </svg>\n",
              "    </button>\n",
              "\n",
              "  <style>\n",
              "    .colab-df-container {\n",
              "      display:flex;\n",
              "      gap: 12px;\n",
              "    }\n",
              "\n",
              "    .colab-df-convert {\n",
              "      background-color: #E8F0FE;\n",
              "      border: none;\n",
              "      border-radius: 50%;\n",
              "      cursor: pointer;\n",
              "      display: none;\n",
              "      fill: #1967D2;\n",
              "      height: 32px;\n",
              "      padding: 0 0 0 0;\n",
              "      width: 32px;\n",
              "    }\n",
              "\n",
              "    .colab-df-convert:hover {\n",
              "      background-color: #E2EBFA;\n",
              "      box-shadow: 0px 1px 2px rgba(60, 64, 67, 0.3), 0px 1px 3px 1px rgba(60, 64, 67, 0.15);\n",
              "      fill: #174EA6;\n",
              "    }\n",
              "\n",
              "    .colab-df-buttons div {\n",
              "      margin-bottom: 4px;\n",
              "    }\n",
              "\n",
              "    [theme=dark] .colab-df-convert {\n",
              "      background-color: #3B4455;\n",
              "      fill: #D2E3FC;\n",
              "    }\n",
              "\n",
              "    [theme=dark] .colab-df-convert:hover {\n",
              "      background-color: #434B5C;\n",
              "      box-shadow: 0px 1px 3px 1px rgba(0, 0, 0, 0.15);\n",
              "      filter: drop-shadow(0px 1px 2px rgba(0, 0, 0, 0.3));\n",
              "      fill: #FFFFFF;\n",
              "    }\n",
              "  </style>\n",
              "\n",
              "    <script>\n",
              "      const buttonEl =\n",
              "        document.querySelector('#df-5f630370-6d4f-4bc8-9674-a89824820fce button.colab-df-convert');\n",
              "      buttonEl.style.display =\n",
              "        google.colab.kernel.accessAllowed ? 'block' : 'none';\n",
              "\n",
              "      async function convertToInteractive(key) {\n",
              "        const element = document.querySelector('#df-5f630370-6d4f-4bc8-9674-a89824820fce');\n",
              "        const dataTable =\n",
              "          await google.colab.kernel.invokeFunction('convertToInteractive',\n",
              "                                                    [key], {});\n",
              "        if (!dataTable) return;\n",
              "\n",
              "        const docLinkHtml = 'Like what you see? Visit the ' +\n",
              "          '<a target=\"_blank\" href=https://colab.research.google.com/notebooks/data_table.ipynb>data table notebook</a>'\n",
              "          + ' to learn more about interactive tables.';\n",
              "        element.innerHTML = '';\n",
              "        dataTable['output_type'] = 'display_data';\n",
              "        await google.colab.output.renderOutput(dataTable, element);\n",
              "        const docLink = document.createElement('div');\n",
              "        docLink.innerHTML = docLinkHtml;\n",
              "        element.appendChild(docLink);\n",
              "      }\n",
              "    </script>\n",
              "  </div>\n",
              "\n",
              "\n",
              "<div id=\"df-54f776f3-a869-49a7-998a-c57fdf8b9464\">\n",
              "  <button class=\"colab-df-quickchart\" onclick=\"quickchart('df-54f776f3-a869-49a7-998a-c57fdf8b9464')\"\n",
              "            title=\"Suggest charts\"\n",
              "            style=\"display:none;\">\n",
              "\n",
              "<svg xmlns=\"http://www.w3.org/2000/svg\" height=\"24px\"viewBox=\"0 0 24 24\"\n",
              "     width=\"24px\">\n",
              "    <g>\n",
              "        <path d=\"M19 3H5c-1.1 0-2 .9-2 2v14c0 1.1.9 2 2 2h14c1.1 0 2-.9 2-2V5c0-1.1-.9-2-2-2zM9 17H7v-7h2v7zm4 0h-2V7h2v10zm4 0h-2v-4h2v4z\"/>\n",
              "    </g>\n",
              "</svg>\n",
              "  </button>\n",
              "\n",
              "<style>\n",
              "  .colab-df-quickchart {\n",
              "      --bg-color: #E8F0FE;\n",
              "      --fill-color: #1967D2;\n",
              "      --hover-bg-color: #E2EBFA;\n",
              "      --hover-fill-color: #174EA6;\n",
              "      --disabled-fill-color: #AAA;\n",
              "      --disabled-bg-color: #DDD;\n",
              "  }\n",
              "\n",
              "  [theme=dark] .colab-df-quickchart {\n",
              "      --bg-color: #3B4455;\n",
              "      --fill-color: #D2E3FC;\n",
              "      --hover-bg-color: #434B5C;\n",
              "      --hover-fill-color: #FFFFFF;\n",
              "      --disabled-bg-color: #3B4455;\n",
              "      --disabled-fill-color: #666;\n",
              "  }\n",
              "\n",
              "  .colab-df-quickchart {\n",
              "    background-color: var(--bg-color);\n",
              "    border: none;\n",
              "    border-radius: 50%;\n",
              "    cursor: pointer;\n",
              "    display: none;\n",
              "    fill: var(--fill-color);\n",
              "    height: 32px;\n",
              "    padding: 0;\n",
              "    width: 32px;\n",
              "  }\n",
              "\n",
              "  .colab-df-quickchart:hover {\n",
              "    background-color: var(--hover-bg-color);\n",
              "    box-shadow: 0 1px 2px rgba(60, 64, 67, 0.3), 0 1px 3px 1px rgba(60, 64, 67, 0.15);\n",
              "    fill: var(--button-hover-fill-color);\n",
              "  }\n",
              "\n",
              "  .colab-df-quickchart-complete:disabled,\n",
              "  .colab-df-quickchart-complete:disabled:hover {\n",
              "    background-color: var(--disabled-bg-color);\n",
              "    fill: var(--disabled-fill-color);\n",
              "    box-shadow: none;\n",
              "  }\n",
              "\n",
              "  .colab-df-spinner {\n",
              "    border: 2px solid var(--fill-color);\n",
              "    border-color: transparent;\n",
              "    border-bottom-color: var(--fill-color);\n",
              "    animation:\n",
              "      spin 1s steps(1) infinite;\n",
              "  }\n",
              "\n",
              "  @keyframes spin {\n",
              "    0% {\n",
              "      border-color: transparent;\n",
              "      border-bottom-color: var(--fill-color);\n",
              "      border-left-color: var(--fill-color);\n",
              "    }\n",
              "    20% {\n",
              "      border-color: transparent;\n",
              "      border-left-color: var(--fill-color);\n",
              "      border-top-color: var(--fill-color);\n",
              "    }\n",
              "    30% {\n",
              "      border-color: transparent;\n",
              "      border-left-color: var(--fill-color);\n",
              "      border-top-color: var(--fill-color);\n",
              "      border-right-color: var(--fill-color);\n",
              "    }\n",
              "    40% {\n",
              "      border-color: transparent;\n",
              "      border-right-color: var(--fill-color);\n",
              "      border-top-color: var(--fill-color);\n",
              "    }\n",
              "    60% {\n",
              "      border-color: transparent;\n",
              "      border-right-color: var(--fill-color);\n",
              "    }\n",
              "    80% {\n",
              "      border-color: transparent;\n",
              "      border-right-color: var(--fill-color);\n",
              "      border-bottom-color: var(--fill-color);\n",
              "    }\n",
              "    90% {\n",
              "      border-color: transparent;\n",
              "      border-bottom-color: var(--fill-color);\n",
              "    }\n",
              "  }\n",
              "</style>\n",
              "\n",
              "  <script>\n",
              "    async function quickchart(key) {\n",
              "      const quickchartButtonEl =\n",
              "        document.querySelector('#' + key + ' button');\n",
              "      quickchartButtonEl.disabled = true;  // To prevent multiple clicks.\n",
              "      quickchartButtonEl.classList.add('colab-df-spinner');\n",
              "      try {\n",
              "        const charts = await google.colab.kernel.invokeFunction(\n",
              "            'suggestCharts', [key], {});\n",
              "      } catch (error) {\n",
              "        console.error('Error during call to suggestCharts:', error);\n",
              "      }\n",
              "      quickchartButtonEl.classList.remove('colab-df-spinner');\n",
              "      quickchartButtonEl.classList.add('colab-df-quickchart-complete');\n",
              "    }\n",
              "    (() => {\n",
              "      let quickchartButtonEl =\n",
              "        document.querySelector('#df-54f776f3-a869-49a7-998a-c57fdf8b9464 button');\n",
              "      quickchartButtonEl.style.display =\n",
              "        google.colab.kernel.accessAllowed ? 'block' : 'none';\n",
              "    })();\n",
              "  </script>\n",
              "</div>\n",
              "    </div>\n",
              "  </div>\n"
            ],
            "application/vnd.google.colaboratory.intrinsic+json": {
              "type": "dataframe",
              "variable_name": "df",
              "summary": "{\n  \"name\": \"df\",\n  \"rows\": 7488,\n  \"fields\": [\n    {\n      \"column\": \"date\",\n      \"properties\": {\n        \"dtype\": \"object\",\n        \"num_unique_values\": 7488,\n        \"samples\": [\n          \"09/28/1997 00:00\",\n          \"10/29/1997 00:00\",\n          \"11/04/1995 00:00\"\n        ],\n        \"semantic_type\": \"\",\n        \"description\": \"\"\n      }\n    },\n    {\n      \"column\": \"val\",\n      \"properties\": {\n        \"dtype\": \"number\",\n        \"std\": 0.08337009387026768,\n        \"min\": 0.523834,\n        \"max\": 0.8499893815467519,\n        \"num_unique_values\": 6682,\n        \"samples\": [\n          0.661682,\n          0.802916,\n          0.687394256091828\n        ],\n        \"semantic_type\": \"\",\n        \"description\": \"\"\n      }\n    }\n  ]\n}"
            }
          },
          "metadata": {},
          "execution_count": 12
        }
      ],
      "source": [
        "# =============================================================================\n",
        "# EDA of the Data\n",
        "# =============================================================================\n",
        "df.head()"
      ]
    },
    {
      "cell_type": "code",
      "execution_count": 13,
      "metadata": {
        "colab": {
          "base_uri": "https://localhost:8080/",
          "height": 206
        },
        "id": "GPeMMj7z7E8w",
        "outputId": "231d5412-0280-4e7a-bee6-f9404de6a658"
      },
      "outputs": [
        {
          "output_type": "execute_result",
          "data": {
            "text/plain": [
              "                  date       val\n",
              "7483  06/28/2010 00:00  0.730941\n",
              "7484  06/29/2010 00:00  0.734498\n",
              "7485  06/30/2010 00:00  0.733708\n",
              "7486  07/01/2010 00:00  0.736223\n",
              "7487  07/02/2010 00:00  0.737300"
            ],
            "text/html": [
              "\n",
              "  <div id=\"df-c2af0b7a-ea7f-4da7-9a12-7f2dce570775\" class=\"colab-df-container\">\n",
              "    <div>\n",
              "<style scoped>\n",
              "    .dataframe tbody tr th:only-of-type {\n",
              "        vertical-align: middle;\n",
              "    }\n",
              "\n",
              "    .dataframe tbody tr th {\n",
              "        vertical-align: top;\n",
              "    }\n",
              "\n",
              "    .dataframe thead th {\n",
              "        text-align: right;\n",
              "    }\n",
              "</style>\n",
              "<table border=\"1\" class=\"dataframe\">\n",
              "  <thead>\n",
              "    <tr style=\"text-align: right;\">\n",
              "      <th></th>\n",
              "      <th>date</th>\n",
              "      <th>val</th>\n",
              "    </tr>\n",
              "  </thead>\n",
              "  <tbody>\n",
              "    <tr>\n",
              "      <th>7483</th>\n",
              "      <td>06/28/2010 00:00</td>\n",
              "      <td>0.730941</td>\n",
              "    </tr>\n",
              "    <tr>\n",
              "      <th>7484</th>\n",
              "      <td>06/29/2010 00:00</td>\n",
              "      <td>0.734498</td>\n",
              "    </tr>\n",
              "    <tr>\n",
              "      <th>7485</th>\n",
              "      <td>06/30/2010 00:00</td>\n",
              "      <td>0.733708</td>\n",
              "    </tr>\n",
              "    <tr>\n",
              "      <th>7486</th>\n",
              "      <td>07/01/2010 00:00</td>\n",
              "      <td>0.736223</td>\n",
              "    </tr>\n",
              "    <tr>\n",
              "      <th>7487</th>\n",
              "      <td>07/02/2010 00:00</td>\n",
              "      <td>0.737300</td>\n",
              "    </tr>\n",
              "  </tbody>\n",
              "</table>\n",
              "</div>\n",
              "    <div class=\"colab-df-buttons\">\n",
              "\n",
              "  <div class=\"colab-df-container\">\n",
              "    <button class=\"colab-df-convert\" onclick=\"convertToInteractive('df-c2af0b7a-ea7f-4da7-9a12-7f2dce570775')\"\n",
              "            title=\"Convert this dataframe to an interactive table.\"\n",
              "            style=\"display:none;\">\n",
              "\n",
              "  <svg xmlns=\"http://www.w3.org/2000/svg\" height=\"24px\" viewBox=\"0 -960 960 960\">\n",
              "    <path d=\"M120-120v-720h720v720H120Zm60-500h600v-160H180v160Zm220 220h160v-160H400v160Zm0 220h160v-160H400v160ZM180-400h160v-160H180v160Zm440 0h160v-160H620v160ZM180-180h160v-160H180v160Zm440 0h160v-160H620v160Z\"/>\n",
              "  </svg>\n",
              "    </button>\n",
              "\n",
              "  <style>\n",
              "    .colab-df-container {\n",
              "      display:flex;\n",
              "      gap: 12px;\n",
              "    }\n",
              "\n",
              "    .colab-df-convert {\n",
              "      background-color: #E8F0FE;\n",
              "      border: none;\n",
              "      border-radius: 50%;\n",
              "      cursor: pointer;\n",
              "      display: none;\n",
              "      fill: #1967D2;\n",
              "      height: 32px;\n",
              "      padding: 0 0 0 0;\n",
              "      width: 32px;\n",
              "    }\n",
              "\n",
              "    .colab-df-convert:hover {\n",
              "      background-color: #E2EBFA;\n",
              "      box-shadow: 0px 1px 2px rgba(60, 64, 67, 0.3), 0px 1px 3px 1px rgba(60, 64, 67, 0.15);\n",
              "      fill: #174EA6;\n",
              "    }\n",
              "\n",
              "    .colab-df-buttons div {\n",
              "      margin-bottom: 4px;\n",
              "    }\n",
              "\n",
              "    [theme=dark] .colab-df-convert {\n",
              "      background-color: #3B4455;\n",
              "      fill: #D2E3FC;\n",
              "    }\n",
              "\n",
              "    [theme=dark] .colab-df-convert:hover {\n",
              "      background-color: #434B5C;\n",
              "      box-shadow: 0px 1px 3px 1px rgba(0, 0, 0, 0.15);\n",
              "      filter: drop-shadow(0px 1px 2px rgba(0, 0, 0, 0.3));\n",
              "      fill: #FFFFFF;\n",
              "    }\n",
              "  </style>\n",
              "\n",
              "    <script>\n",
              "      const buttonEl =\n",
              "        document.querySelector('#df-c2af0b7a-ea7f-4da7-9a12-7f2dce570775 button.colab-df-convert');\n",
              "      buttonEl.style.display =\n",
              "        google.colab.kernel.accessAllowed ? 'block' : 'none';\n",
              "\n",
              "      async function convertToInteractive(key) {\n",
              "        const element = document.querySelector('#df-c2af0b7a-ea7f-4da7-9a12-7f2dce570775');\n",
              "        const dataTable =\n",
              "          await google.colab.kernel.invokeFunction('convertToInteractive',\n",
              "                                                    [key], {});\n",
              "        if (!dataTable) return;\n",
              "\n",
              "        const docLinkHtml = 'Like what you see? Visit the ' +\n",
              "          '<a target=\"_blank\" href=https://colab.research.google.com/notebooks/data_table.ipynb>data table notebook</a>'\n",
              "          + ' to learn more about interactive tables.';\n",
              "        element.innerHTML = '';\n",
              "        dataTable['output_type'] = 'display_data';\n",
              "        await google.colab.output.renderOutput(dataTable, element);\n",
              "        const docLink = document.createElement('div');\n",
              "        docLink.innerHTML = docLinkHtml;\n",
              "        element.appendChild(docLink);\n",
              "      }\n",
              "    </script>\n",
              "  </div>\n",
              "\n",
              "\n",
              "<div id=\"df-cf086e72-b466-4009-b961-00875baa9633\">\n",
              "  <button class=\"colab-df-quickchart\" onclick=\"quickchart('df-cf086e72-b466-4009-b961-00875baa9633')\"\n",
              "            title=\"Suggest charts\"\n",
              "            style=\"display:none;\">\n",
              "\n",
              "<svg xmlns=\"http://www.w3.org/2000/svg\" height=\"24px\"viewBox=\"0 0 24 24\"\n",
              "     width=\"24px\">\n",
              "    <g>\n",
              "        <path d=\"M19 3H5c-1.1 0-2 .9-2 2v14c0 1.1.9 2 2 2h14c1.1 0 2-.9 2-2V5c0-1.1-.9-2-2-2zM9 17H7v-7h2v7zm4 0h-2V7h2v10zm4 0h-2v-4h2v4z\"/>\n",
              "    </g>\n",
              "</svg>\n",
              "  </button>\n",
              "\n",
              "<style>\n",
              "  .colab-df-quickchart {\n",
              "      --bg-color: #E8F0FE;\n",
              "      --fill-color: #1967D2;\n",
              "      --hover-bg-color: #E2EBFA;\n",
              "      --hover-fill-color: #174EA6;\n",
              "      --disabled-fill-color: #AAA;\n",
              "      --disabled-bg-color: #DDD;\n",
              "  }\n",
              "\n",
              "  [theme=dark] .colab-df-quickchart {\n",
              "      --bg-color: #3B4455;\n",
              "      --fill-color: #D2E3FC;\n",
              "      --hover-bg-color: #434B5C;\n",
              "      --hover-fill-color: #FFFFFF;\n",
              "      --disabled-bg-color: #3B4455;\n",
              "      --disabled-fill-color: #666;\n",
              "  }\n",
              "\n",
              "  .colab-df-quickchart {\n",
              "    background-color: var(--bg-color);\n",
              "    border: none;\n",
              "    border-radius: 50%;\n",
              "    cursor: pointer;\n",
              "    display: none;\n",
              "    fill: var(--fill-color);\n",
              "    height: 32px;\n",
              "    padding: 0;\n",
              "    width: 32px;\n",
              "  }\n",
              "\n",
              "  .colab-df-quickchart:hover {\n",
              "    background-color: var(--hover-bg-color);\n",
              "    box-shadow: 0 1px 2px rgba(60, 64, 67, 0.3), 0 1px 3px 1px rgba(60, 64, 67, 0.15);\n",
              "    fill: var(--button-hover-fill-color);\n",
              "  }\n",
              "\n",
              "  .colab-df-quickchart-complete:disabled,\n",
              "  .colab-df-quickchart-complete:disabled:hover {\n",
              "    background-color: var(--disabled-bg-color);\n",
              "    fill: var(--disabled-fill-color);\n",
              "    box-shadow: none;\n",
              "  }\n",
              "\n",
              "  .colab-df-spinner {\n",
              "    border: 2px solid var(--fill-color);\n",
              "    border-color: transparent;\n",
              "    border-bottom-color: var(--fill-color);\n",
              "    animation:\n",
              "      spin 1s steps(1) infinite;\n",
              "  }\n",
              "\n",
              "  @keyframes spin {\n",
              "    0% {\n",
              "      border-color: transparent;\n",
              "      border-bottom-color: var(--fill-color);\n",
              "      border-left-color: var(--fill-color);\n",
              "    }\n",
              "    20% {\n",
              "      border-color: transparent;\n",
              "      border-left-color: var(--fill-color);\n",
              "      border-top-color: var(--fill-color);\n",
              "    }\n",
              "    30% {\n",
              "      border-color: transparent;\n",
              "      border-left-color: var(--fill-color);\n",
              "      border-top-color: var(--fill-color);\n",
              "      border-right-color: var(--fill-color);\n",
              "    }\n",
              "    40% {\n",
              "      border-color: transparent;\n",
              "      border-right-color: var(--fill-color);\n",
              "      border-top-color: var(--fill-color);\n",
              "    }\n",
              "    60% {\n",
              "      border-color: transparent;\n",
              "      border-right-color: var(--fill-color);\n",
              "    }\n",
              "    80% {\n",
              "      border-color: transparent;\n",
              "      border-right-color: var(--fill-color);\n",
              "      border-bottom-color: var(--fill-color);\n",
              "    }\n",
              "    90% {\n",
              "      border-color: transparent;\n",
              "      border-bottom-color: var(--fill-color);\n",
              "    }\n",
              "  }\n",
              "</style>\n",
              "\n",
              "  <script>\n",
              "    async function quickchart(key) {\n",
              "      const quickchartButtonEl =\n",
              "        document.querySelector('#' + key + ' button');\n",
              "      quickchartButtonEl.disabled = true;  // To prevent multiple clicks.\n",
              "      quickchartButtonEl.classList.add('colab-df-spinner');\n",
              "      try {\n",
              "        const charts = await google.colab.kernel.invokeFunction(\n",
              "            'suggestCharts', [key], {});\n",
              "      } catch (error) {\n",
              "        console.error('Error during call to suggestCharts:', error);\n",
              "      }\n",
              "      quickchartButtonEl.classList.remove('colab-df-spinner');\n",
              "      quickchartButtonEl.classList.add('colab-df-quickchart-complete');\n",
              "    }\n",
              "    (() => {\n",
              "      let quickchartButtonEl =\n",
              "        document.querySelector('#df-cf086e72-b466-4009-b961-00875baa9633 button');\n",
              "      quickchartButtonEl.style.display =\n",
              "        google.colab.kernel.accessAllowed ? 'block' : 'none';\n",
              "    })();\n",
              "  </script>\n",
              "</div>\n",
              "    </div>\n",
              "  </div>\n"
            ],
            "application/vnd.google.colaboratory.intrinsic+json": {
              "type": "dataframe",
              "repr_error": "0"
            }
          },
          "metadata": {},
          "execution_count": 13
        }
      ],
      "source": [
        "df.tail()"
      ]
    },
    {
      "cell_type": "code",
      "execution_count": 14,
      "metadata": {
        "colab": {
          "base_uri": "https://localhost:8080/"
        },
        "id": "kzjKGJ-h7E8w",
        "outputId": "834f196c-8fd3-4bba-c30e-540f3804e07b"
      },
      "outputs": [
        {
          "output_type": "execute_result",
          "data": {
            "text/plain": [
              "(7488, 2)"
            ]
          },
          "metadata": {},
          "execution_count": 14
        }
      ],
      "source": [
        "#Shape\n",
        "df.shape"
      ]
    },
    {
      "cell_type": "code",
      "execution_count": 15,
      "metadata": {
        "colab": {
          "base_uri": "https://localhost:8080/"
        },
        "id": "g673NMu77E8w",
        "outputId": "f940586d-57b4-4e22-e528-355a27f377de"
      },
      "outputs": [
        {
          "output_type": "stream",
          "name": "stdout",
          "text": [
            "<class 'pandas.core.frame.DataFrame'>\n",
            "RangeIndex: 7488 entries, 0 to 7487\n",
            "Data columns (total 2 columns):\n",
            " #   Column  Non-Null Count  Dtype  \n",
            "---  ------  --------------  -----  \n",
            " 0   date    7488 non-null   object \n",
            " 1   val     7488 non-null   float64\n",
            "dtypes: float64(1), object(1)\n",
            "memory usage: 117.1+ KB\n"
          ]
        }
      ],
      "source": [
        "#Inforrmation about the data\n",
        "df.info()"
      ]
    },
    {
      "cell_type": "code",
      "execution_count": 16,
      "metadata": {
        "colab": {
          "base_uri": "https://localhost:8080/"
        },
        "id": "lGcRVczY7E8x",
        "outputId": "963c0f68-b9f0-440a-d9a4-a35f890cff3a"
      },
      "outputs": [
        {
          "output_type": "execute_result",
          "data": {
            "text/plain": [
              "date    0\n",
              "val     0\n",
              "dtype: int64"
            ]
          },
          "metadata": {},
          "execution_count": 16
        }
      ],
      "source": [
        "#Checking missing values across features\n",
        "df.isnull().sum()"
      ]
    },
    {
      "cell_type": "code",
      "execution_count": 17,
      "metadata": {
        "id": "8fR7Mdn77E8x"
      },
      "outputs": [],
      "source": [
        "# =============================================================================\n",
        "# Data Processing\n",
        "# ============================================================================="
      ]
    },
    {
      "cell_type": "code",
      "execution_count": 18,
      "metadata": {
        "id": "sjBNl3ZE7E8x"
      },
      "outputs": [],
      "source": [
        "df1 = df.reset_index()['val']"
      ]
    },
    {
      "cell_type": "code",
      "execution_count": 19,
      "metadata": {
        "colab": {
          "base_uri": "https://localhost:8080/"
        },
        "id": "-KR-A7vB7E8x",
        "outputId": "ea597c79-1a00-4366-9619-9c6f5b769f33"
      },
      "outputs": [
        {
          "output_type": "execute_result",
          "data": {
            "text/plain": [
              "0       0.525486\n",
              "1       0.523972\n",
              "2       0.526316\n",
              "3       0.523834\n",
              "4       0.527426\n",
              "          ...   \n",
              "7483    0.730941\n",
              "7484    0.734498\n",
              "7485    0.733708\n",
              "7486    0.736223\n",
              "7487    0.737300\n",
              "Name: val, Length: 7488, dtype: float64"
            ]
          },
          "metadata": {},
          "execution_count": 19
        }
      ],
      "source": [
        "df1"
      ]
    },
    {
      "cell_type": "code",
      "execution_count": 20,
      "metadata": {
        "colab": {
          "base_uri": "https://localhost:8080/",
          "height": 447
        },
        "id": "4fCbLmf67E8x",
        "outputId": "10c75e1c-e63b-4372-9c7e-f8e2fa354149"
      },
      "outputs": [
        {
          "output_type": "execute_result",
          "data": {
            "text/plain": [
              "[<matplotlib.lines.Line2D at 0x7c2b0108c520>]"
            ]
          },
          "metadata": {},
          "execution_count": 20
        },
        {
          "output_type": "display_data",
          "data": {
            "text/plain": [
              "<Figure size 640x480 with 1 Axes>"
            ],
            "image/png": "[encoded data removed]"
          },
          "metadata": {}
        }
      ],
      "source": [
        "plt.plot(df1)"
      ]
    },
    {
      "cell_type": "code",
      "execution_count": 21,
      "metadata": {
        "id": "3iW7cTpO7E8y"
      },
      "outputs": [],
      "source": [
        "### LSTM are sensitive to the scale of the data. so we apply MinMax scaler"
      ]
    },
    {
      "cell_type": "code",
      "execution_count": 22,
      "metadata": {
        "colab": {
          "base_uri": "https://localhost:8080/"
        },
        "id": "S8tNfAwM7E8y",
        "outputId": "80559430-65ea-462a-c672-e3a8094c256c"
      },
      "outputs": [
        {
          "output_type": "execute_result",
          "data": {
            "text/plain": [
              "0       0.525486\n",
              "1       0.523972\n",
              "2       0.526316\n",
              "3       0.523834\n",
              "4       0.527426\n",
              "          ...   \n",
              "7483    0.730941\n",
              "7484    0.734498\n",
              "7485    0.733708\n",
              "7486    0.736223\n",
              "7487    0.737300\n",
              "Name: val, Length: 7488, dtype: float64"
            ]
          },
          "metadata": {},
          "execution_count": 22
        }
      ],
      "source": [
        "df1"
      ]
    },
    {
      "cell_type": "code",
      "execution_count": 23,
      "metadata": {
        "id": "ktSWODvp7E8y"
      },
      "outputs": [],
      "source": [
        "from sklearn.preprocessing import MinMaxScaler\n",
        "scaler=MinMaxScaler(feature_range=(0,1))\n",
        "df1=scaler.fit_transform(np.array(df1).reshape(-1,1))"
      ]
    },
    {
      "cell_type": "code",
      "execution_count": 24,
      "metadata": {
        "colab": {
          "base_uri": "https://localhost:8080/"
        },
        "id": "7YXFh4gV7E8y",
        "outputId": "82ce85a9-c490-4a79-ec18-6727a60fa091"
      },
      "outputs": [
        {
          "output_type": "stream",
          "name": "stdout",
          "text": [
            "[[5.06507050e-03]\n",
            " [4.23111216e-04]\n",
            " [7.60986984e-03]\n",
            " ...\n",
            " [6.43478575e-01]\n",
            " [6.51189623e-01]\n",
            " [6.54491730e-01]]\n"
          ]
        }
      ],
      "source": [
        "print(df1)"
      ]
    },
    {
      "cell_type": "code",
      "execution_count": 25,
      "metadata": {
        "id": "41DIRTDO7E8y"
      },
      "outputs": [],
      "source": [
        "##splitting dataset into train and test split\n",
        "training_size=int(len(df1)*0.65)\n",
        "test_size=len(df1)-training_size\n",
        "train_data,test_data=df1[0:training_size,:],df1[training_size:len(df1),:1]"
      ]
    },
    {
      "cell_type": "code",
      "execution_count": 26,
      "metadata": {
        "colab": {
          "base_uri": "https://localhost:8080/"
        },
        "id": "Xsqp8CHX7E8y",
        "outputId": "493e420c-1ac0-4e5b-c3ff-79246c090cb8"
      },
      "outputs": [
        {
          "output_type": "execute_result",
          "data": {
            "text/plain": [
              "(4867, 2621)"
            ]
          },
          "metadata": {},
          "execution_count": 26
        }
      ],
      "source": [
        "training_size,test_size"
      ]
    },
    {
      "cell_type": "code",
      "execution_count": 27,
      "metadata": {
        "colab": {
          "base_uri": "https://localhost:8080/"
        },
        "id": "LKvdeKJo7E8z",
        "outputId": "44623c35-8a47-45a8-c66d-af03b2f5db70"
      },
      "outputs": [
        {
          "output_type": "execute_result",
          "data": {
            "text/plain": [
              "array([[5.06507050e-03],\n",
              "       [4.23111216e-04],\n",
              "       [7.60986984e-03],\n",
              "       ...,\n",
              "       [4.24257908e-01],\n",
              "       [4.18358880e-01],\n",
              "       [4.31003160e-01]])"
            ]
          },
          "metadata": {},
          "execution_count": 27
        }
      ],
      "source": [
        "train_data"
      ]
    },
    {
      "cell_type": "code",
      "execution_count": 28,
      "metadata": {
        "id": "nLC9zlzN7E8z"
      },
      "outputs": [],
      "source": [
        "import numpy\n",
        "# convert an array of values into a dataset matrix\n",
        "def create_dataset(dataset, time_step=1):\n",
        "\tdataX, dataY = [], []\n",
        "\tfor i in range(len(dataset)-time_step-1):\n",
        "\t\ta = dataset[i:(i+time_step), 0]   ###i=0, 0,1,2,3-----99   100\n",
        "\t\tdataX.append(a)\n",
        "\t\tdataY.append(dataset[i + time_step, 0])\n",
        "\treturn numpy.array(dataX), numpy.array(dataY)"
      ]
    },
    {
      "cell_type": "code",
      "execution_count": 29,
      "metadata": {
        "id": "6kYQfNMh7E8z"
      },
      "outputs": [],
      "source": [
        "# reshape into X=t,t+1,t+2,t+3 and Y=t+4\n",
        "time_step = 100\n",
        "X_train, y_train = create_dataset(train_data, time_step)\n",
        "X_test, ytest = create_dataset(test_data, time_step)"
      ]
    },
    {
      "cell_type": "code",
      "execution_count": 30,
      "metadata": {
        "colab": {
          "base_uri": "https://localhost:8080/"
        },
        "id": "hK8S5Om47E8z",
        "outputId": "77b8af89-90c7-474a-9db3-c01d0eefc885"
      },
      "outputs": [
        {
          "output_type": "stream",
          "name": "stdout",
          "text": [
            "(4766, 100)\n",
            "(4766,)\n"
          ]
        },
        {
          "output_type": "execute_result",
          "data": {
            "text/plain": [
              "(None, None)"
            ]
          },
          "metadata": {},
          "execution_count": 30
        }
      ],
      "source": [
        "print(X_train.shape), print(y_train.shape)"
      ]
    },
    {
      "cell_type": "code",
      "execution_count": 31,
      "metadata": {
        "colab": {
          "base_uri": "https://localhost:8080/"
        },
        "id": "p6f4WODT7E8z",
        "outputId": "716bdb98-e345-42fd-c5b7-b26ba6ad0963"
      },
      "outputs": [
        {
          "output_type": "stream",
          "name": "stdout",
          "text": [
            "(2520, 100)\n",
            "(2520,)\n"
          ]
        },
        {
          "output_type": "execute_result",
          "data": {
            "text/plain": [
              "(None, None)"
            ]
          },
          "metadata": {},
          "execution_count": 31
        }
      ],
      "source": [
        "print(X_test.shape), print(ytest.shape)"
      ]
    },
    {
      "cell_type": "code",
      "execution_count": 32,
      "metadata": {
        "id": "BkdDcoIz7E8z"
      },
      "outputs": [],
      "source": [
        "# reshape input to be [samples, time steps, features] which is required for LSTM\n",
        "X_train =X_train.reshape(X_train.shape[0],X_train.shape[1] , 1)\n",
        "X_test = X_test.reshape(X_test.shape[0],X_test.shape[1] , 1)"
      ]
    },
    {
      "cell_type": "code",
      "execution_count": 33,
      "metadata": {
        "id": "g5LSEEzv7E80"
      },
      "outputs": [],
      "source": [
        "### Create the Stacked LSTM model\n",
        "from tensorflow.keras.models import Sequential\n",
        "from tensorflow.keras.layers import Dense\n",
        "from tensorflow.keras.layers import LSTM"
      ]
    },
    {
      "cell_type": "code",
      "execution_count": 34,
      "metadata": {
        "id": "EwJ1BYaX7E80"
      },
      "outputs": [],
      "source": [
        "model=Sequential()\n",
        "model.add(LSTM(50,return_sequences=True,input_shape=(100,1)))\n",
        "model.add(LSTM(50,return_sequences=True))\n",
        "model.add(LSTM(50))\n",
        "model.add(Dense(1))\n",
        "model.compile(loss='mean_squared_error',optimizer='adam')\n"
      ]
    },
    {
      "cell_type": "code",
      "execution_count": 35,
      "metadata": {
        "colab": {
          "base_uri": "https://localhost:8080/"
        },
        "id": "KRWkKc8O7E80",
        "outputId": "1ba9bb5e-57f3-4951-fcdd-47ab2937a862"
      },
      "outputs": [
        {
          "output_type": "stream",
          "name": "stdout",
          "text": [
            "Model: \"sequential\"\n",
            "_________________________________________________________________\n",
            " Layer (type)                Output Shape              Param #   \n",
            "=================================================================\n",
            " lstm (LSTM)                 (None, 100, 50)           10400     \n",
            "                                                                 \n",
            " lstm_1 (LSTM)               (None, 100, 50)           20200     \n",
            "                                                                 \n",
            " lstm_2 (LSTM)               (None, 50)                20200     \n",
            "                                                                 \n",
            " dense (Dense)               (None, 1)                 51        \n",
            "                                                                 \n",
            "=================================================================\n",
            "Total params: 50851 (198.64 KB)\n",
            "Trainable params: 50851 (198.64 KB)\n",
            "Non-trainable params: 0 (0.00 Byte)\n",
            "_________________________________________________________________\n"
          ]
        }
      ],
      "source": [
        "model.summary()"
      ]
    },
    {
      "cell_type": "code",
      "execution_count": 36,
      "metadata": {
        "colab": {
          "base_uri": "https://localhost:8080/"
        },
        "id": "vRhGYXiA7E80",
        "outputId": "fd3e09aa-b9a5-4647-c006-00c3a2d30a2d"
      },
      "outputs": [
        {
          "output_type": "stream",
          "name": "stdout",
          "text": [
            "Model: \"sequential\"\n",
            "_________________________________________________________________\n",
            " Layer (type)                Output Shape              Param #   \n",
            "=================================================================\n",
            " lstm (LSTM)                 (None, 100, 50)           10400     \n",
            "                                                                 \n",
            " lstm_1 (LSTM)               (None, 100, 50)           20200     \n",
            "                                                                 \n",
            " lstm_2 (LSTM)               (None, 50)                20200     \n",
            "                                                                 \n",
            " dense (Dense)               (None, 1)                 51        \n",
            "                                                                 \n",
            "=================================================================\n",
            "Total params: 50851 (198.64 KB)\n",
            "Trainable params: 50851 (198.64 KB)\n",
            "Non-trainable params: 0 (0.00 Byte)\n",
            "_________________________________________________________________\n"
          ]
        }
      ],
      "source": [
        "model.summary()"
      ]
    },
    {
      "cell_type": "code",
      "execution_count": 36,
      "metadata": {
        "id": "ddCtAmgN7E80"
      },
      "outputs": [],
      "source": []
    },
    {
      "cell_type": "code",
      "execution_count": 37,
      "metadata": {
        "colab": {
          "base_uri": "https://localhost:8080/"
        },
        "id": "P3kViWce7E80",
        "outputId": "42b0dcc8-3ff7-465a-f693-90e5c397e065"
      },
      "outputs": [
        {
          "output_type": "stream",
          "name": "stdout",
          "text": [
            "Epoch 1/20\n",
            "75/75 [==============================] - 23s 223ms/step - loss: 0.0046 - val_loss: 0.0022\n",
            "Epoch 2/20\n",
            "75/75 [==============================] - 14s 190ms/step - loss: 7.4912e-04 - val_loss: 0.0017\n",
            "Epoch 3/20\n",
            "75/75 [==============================] - 15s 204ms/step - loss: 6.1847e-04 - val_loss: 0.0012\n",
            "Epoch 4/20\n",
            "75/75 [==============================] - 15s 207ms/step - loss: 4.7431e-04 - val_loss: 0.0013\n",
            "Epoch 5/20\n",
            "75/75 [==============================] - 14s 190ms/step - loss: 3.8716e-04 - val_loss: 0.0012\n",
            "Epoch 6/20\n",
            "75/75 [==============================] - 15s 197ms/step - loss: 3.2537e-04 - val_loss: 9.4355e-04\n",
            "Epoch 7/20\n",
            "75/75 [==============================] - 15s 194ms/step - loss: 2.6093e-04 - val_loss: 4.9721e-04\n",
            "Epoch 8/20\n",
            "75/75 [==============================] - 14s 190ms/step - loss: 2.3243e-04 - val_loss: 8.9073e-04\n",
            "Epoch 9/20\n",
            "75/75 [==============================] - 14s 191ms/step - loss: 2.2624e-04 - val_loss: 3.4600e-04\n",
            "Epoch 10/20\n",
            "75/75 [==============================] - 14s 190ms/step - loss: 2.0940e-04 - val_loss: 3.9998e-04\n",
            "Epoch 11/20\n",
            "75/75 [==============================] - 14s 190ms/step - loss: 1.8777e-04 - val_loss: 2.1158e-04\n",
            "Epoch 12/20\n",
            "75/75 [==============================] - 14s 191ms/step - loss: 1.5491e-04 - val_loss: 5.4547e-04\n",
            "Epoch 13/20\n",
            "75/75 [==============================] - 15s 199ms/step - loss: 1.5540e-04 - val_loss: 1.3990e-04\n",
            "Epoch 14/20\n",
            "75/75 [==============================] - 15s 195ms/step - loss: 1.4634e-04 - val_loss: 1.1496e-04\n",
            "Epoch 15/20\n",
            "75/75 [==============================] - 14s 190ms/step - loss: 1.2455e-04 - val_loss: 9.4279e-05\n",
            "Epoch 16/20\n",
            "75/75 [==============================] - 14s 191ms/step - loss: 1.1109e-04 - val_loss: 3.9635e-04\n",
            "Epoch 17/20\n",
            "75/75 [==============================] - 14s 191ms/step - loss: 1.2667e-04 - val_loss: 1.4178e-04\n",
            "Epoch 18/20\n",
            "75/75 [==============================] - 14s 190ms/step - loss: 1.0423e-04 - val_loss: 9.8789e-05\n",
            "Epoch 19/20\n",
            "75/75 [==============================] - 14s 189ms/step - loss: 1.0606e-04 - val_loss: 2.4247e-04\n",
            "Epoch 20/20\n",
            "75/75 [==============================] - 14s 190ms/step - loss: 1.0473e-04 - val_loss: 6.6249e-05\n"
          ]
        },
        {
          "output_type": "execute_result",
          "data": {
            "text/plain": [
              "<keras.src.callbacks.History at 0x7c2afc699f60>"
            ]
          },
          "metadata": {},
          "execution_count": 37
        }
      ],
      "source": [
        "model.fit(X_train,y_train,validation_data=(X_test,ytest),epochs=20,batch_size=64,verbose=1)"
      ]
    },
    {
      "cell_type": "code",
      "execution_count": 38,
      "metadata": {
        "colab": {
          "base_uri": "https://localhost:8080/"
        },
        "id": "gWjbBsX27E81",
        "outputId": "47ae26a2-0a81-48e4-acfb-71cac889cdbd"
      },
      "outputs": [
        {
          "output_type": "stream",
          "name": "stdout",
          "text": [
            "149/149 [==============================] - 7s 38ms/step\n",
            "79/79 [==============================] - 3s 39ms/step\n"
          ]
        }
      ],
      "source": [
        "### Lets Do the prediction and check performance metrics\n",
        "train_predict=model.predict(X_train)\n",
        "test_predict=model.predict(X_test)"
      ]
    },
    {
      "cell_type": "code",
      "execution_count": 39,
      "metadata": {
        "id": "xWTtpbgW7E81"
      },
      "outputs": [],
      "source": [
        "##Transformback to original form\n",
        "train_predict=scaler.inverse_transform(train_predict)\n",
        "test_predict=scaler.inverse_transform(test_predict)"
      ]
    },
    {
      "cell_type": "code",
      "execution_count": 40,
      "metadata": {
        "colab": {
          "base_uri": "https://localhost:8080/"
        },
        "id": "wAAlbAWh7E81",
        "outputId": "2614b540-ccbf-4076-f5eb-e78124a889ec"
      },
      "outputs": [
        {
          "output_type": "execute_result",
          "data": {
            "text/plain": [
              "0.3382613357174677"
            ]
          },
          "metadata": {},
          "execution_count": 40
        }
      ],
      "source": [
        "### Calculate RMSE performance metrics\n",
        "import math\n",
        "from sklearn.metrics import mean_squared_error\n",
        "math.sqrt(mean_squared_error(y_train,train_predict))"
      ]
    },
    {
      "cell_type": "code",
      "execution_count": 41,
      "metadata": {
        "colab": {
          "base_uri": "https://localhost:8080/"
        },
        "id": "JS0g5JN97E81",
        "outputId": "3f1dcaa8-955e-4dfd-be62-244b8f516e9c"
      },
      "outputs": [
        {
          "output_type": "execute_result",
          "data": {
            "text/plain": [
              "0.1011588056409593"
            ]
          },
          "metadata": {},
          "execution_count": 41
        }
      ],
      "source": [
        "### Test Data RMSE\n",
        "math.sqrt(mean_squared_error(ytest,test_predict))"
      ]
    },
    {
      "cell_type": "code",
      "execution_count": 42,
      "metadata": {
        "colab": {
          "base_uri": "https://localhost:8080/",
          "height": 430
        },
        "id": "NILlcynn7E81",
        "outputId": "6fb6f311-1c15-4847-b096-97c03cff3321"
      },
      "outputs": [
        {
          "output_type": "display_data",
          "data": {
            "text/plain": [
              "<Figure size 640x480 with 1 Axes>"
            ],
            "image/png": "[encoded data removed]"
          },
          "metadata": {}
        }
      ],
      "source": [
        "### Plotting\n",
        "# shift train predictions for plotting\n",
        "look_back=100\n",
        "trainPredictPlot = numpy.empty_like(df1)\n",
        "trainPredictPlot[:, :] = np.nan\n",
        "trainPredictPlot[look_back:len(train_predict)+look_back, :] = train_predict\n",
        "# shift test predictions for plotting\n",
        "testPredictPlot = numpy.empty_like(df1)\n",
        "testPredictPlot[:, :] = numpy.nan\n",
        "testPredictPlot[len(train_predict)+(look_back*2)+1:len(df1)-1, :] = test_predict\n",
        "# plot baseline and predictions\n",
        "plt.plot(scaler.inverse_transform(df1))\n",
        "plt.plot(trainPredictPlot)\n",
        "plt.plot(testPredictPlot)\n",
        "plt.show()"
      ]
    },
    {
      "cell_type": "code",
      "execution_count": 43,
      "metadata": {
        "colab": {
          "base_uri": "https://localhost:8080/"
        },
        "id": "Dy5pqEiZ7E82",
        "outputId": "cdda69f5-4b00-4bbe-8b4d-78a6a7487d0a"
      },
      "outputs": [
        {
          "output_type": "execute_result",
          "data": {
            "text/plain": [
              "2621"
            ]
          },
          "metadata": {},
          "execution_count": 43
        }
      ],
      "source": [
        "len(test_data)"
      ]
    },
    {
      "cell_type": "code",
      "execution_count": 44,
      "metadata": {
        "colab": {
          "base_uri": "https://localhost:8080/"
        },
        "id": "A07lqEd47E82",
        "outputId": "8a9d5d3c-1a00-4962-f35c-c2cbd9e81112"
      },
      "outputs": [
        {
          "output_type": "execute_result",
          "data": {
            "text/plain": [
              "(1, 2280)"
            ]
          },
          "metadata": {},
          "execution_count": 44
        }
      ],
      "source": [
        "x_input=test_data[341:].reshape(1,-1)\n",
        "x_input.shape\n"
      ]
    },
    {
      "cell_type": "code",
      "execution_count": 45,
      "metadata": {
        "id": "YmtCSZpQ7E82"
      },
      "outputs": [],
      "source": [
        "temp_input=list(x_input)\n",
        "temp_input=temp_input[0].tolist()"
      ]
    },
    {
      "cell_type": "code",
      "execution_count": 46,
      "metadata": {
        "colab": {
          "base_uri": "https://localhost:8080/"
        },
        "id": "TqH6EORo7E82",
        "outputId": "78cfcb77-aa3d-4f73-fe6b-9ae10209c85f"
      },
      "outputs": [
        {
          "output_type": "execute_result",
          "data": {
            "text/plain": [
              "[0.47591797645061384,\n",
              " 0.47573387061388916,\n",
              " 0.47587955582512786,\n",
              " 0.4763550320843304,\n",
              " 0.4771602993914963,\n",
              " 0.47829535774662557,\n",
              " 0.4797602071497191,\n",
              " 0.4815548476007756,\n",
              " 0.48367927909979636,\n",
              " 0.4861335016467805,\n",
              " 0.48891751524172755,\n",
              " 0.4920313198846389,\n",
              " 0.49547491557551315,\n",
              " 0.4992483023143517,\n",
              " 0.5033514801011536,\n",
              " 0.5077844489359193,\n",
              " 0.5125472088186485,\n",
              " 0.517639759749341,\n",
              " 0.5230621017279977,\n",
              " 0.5288142347546174,\n",
              " 0.5348961588292018,\n",
              " 0.5413078739517483,\n",
              " 0.548049380122259,\n",
              " 0.5551206773407336,\n",
              " 0.5625217656071719,\n",
              " 0.5702526449215737,\n",
              " 0.5783133152839388,\n",
              " 0.5851812074811396,\n",
              " 0.583930269973792,\n",
              " 0.5856503090463947,\n",
              " 0.5886335497195538,\n",
              " 0.591910402533794,\n",
              " 0.5954265704023116,\n",
              " 0.599182053325108,\n",
              " 0.6031768513021818,\n",
              " 0.6074109643335348,\n",
              " 0.6118843924191644,\n",
              " 0.6165971355590723,\n",
              " 0.6215491937532585,\n",
              " 0.6267405670017225,\n",
              " 0.6321712553044645,\n",
              " 0.6378412586614843,\n",
              " 0.6437505770727825,\n",
              " 0.6498992105383581,\n",
              " 0.656287159058212,\n",
              " 0.6629144226323438,\n",
              " 0.6697810012607539,\n",
              " 0.676886894943441,\n",
              " 0.6842321036804078,\n",
              " 0.6918166274716506,\n",
              " 0.6996404663171727,\n",
              " 0.7077036202169726,\n",
              " 0.71600608917105,\n",
              " 0.7245478731794057,\n",
              " 0.7333289722420393,\n",
              " 0.741603568612067,\n",
              " 0.7486258445426042,\n",
              " 0.7543958000336513,\n",
              " 0.7589134350852069,\n",
              " 0.7621787496972734,\n",
              " 0.7641917438698498,\n",
              " 0.7649524176029352,\n",
              " 0.7644607708965305,\n",
              " 0.7627168037506353,\n",
              " 0.75972051616525,\n",
              " 0.7554719081403742,\n",
              " 0.7499709796760088,\n",
              " 0.7432177307721515,\n",
              " 0.7352121614288054,\n",
              " 0.7259542716459679,\n",
              " 0.7154440614236408,\n",
              " 0.7036815307618232,\n",
              " 0.6906666796605154,\n",
              " 0.6763995081197172,\n",
              " 0.6608800161394279,\n",
              " 0.6441082037196495,\n",
              " 0.6260840708603796,\n",
              " 0.6068076175616206,\n",
              " 0.5862788438233706,\n",
              " 0.5676251580520446,\n",
              " 0.567781525240463,\n",
              " 0.5759800715508716,\n",
              " 0.5759800715508716,\n",
              " 0.5766637947472895,\n",
              " 0.5543462111296888,\n",
              " 0.5740239486839902,\n",
              " 0.5798708551215179,\n",
              " 0.576289739904406,\n",
              " 0.5720568360818021,\n",
              " 0.5682062113102277,\n",
              " 0.5647378655896833,\n",
              " 0.5616517989201684,\n",
              " 0.5589480113016829,\n",
              " 0.5566265027342265,\n",
              " 0.5546872732178014,\n",
              " 0.5531303227524049,\n",
              " 0.5519556513380388,\n",
              " 0.5511632589747018,\n",
              " 0.5507531456623946,\n",
              " 0.5507253114011175,\n",
              " 0.5510797561908698,\n",
              " 0.5518164800316521,\n",
              " 0.5529354829234634,\n",
              " 0.5544367648663051,\n",
              " 0.5563203258601759,\n",
              " 0.558586165905077,\n",
              " 0.5612342850010072,\n",
              " 0.5642646831479683,\n",
              " 0.567677360345958,\n",
              " 0.5714723165949775,\n",
              " 0.5756495518950271,\n",
              " 0.5802090662461066,\n",
              " 0.5851508596482151,\n",
              " 0.5903875389806139,\n",
              " 0.5953947455188648,\n",
              " 0.6000850861422269,\n",
              " 0.6044585608507014,\n",
              " 0.6085151696442883,\n",
              " 0.6122549125229868,\n",
              " 0.6156777894867977,\n",
              " 0.6187838005357207,\n",
              " 0.6215729456697552,\n",
              " 0.6240452248889021,\n",
              " 0.6262006381931606,\n",
              " 0.6280391855825325,\n",
              " 0.629560867057015,\n",
              " 0.6307656826166104,\n",
              " 0.6316536322613178,\n",
              " 0.6322247159911367,\n",
              " 0.6324789338060681,\n",
              " 0.6324162857061111,\n",
              " 0.632036771691266,\n",
              " 0.6313403917615334,\n",
              " 0.6303271459169129,\n",
              " 0.6289970341574047,\n",
              " 0.6273500564830086,\n",
              " 0.6253862128937235,\n",
              " 0.6231055033895518,\n",
              " 0.6205079279704913,\n",
              " 0.6190546329251905,\n",
              " 0.6245581447528583,\n",
              " 0.6233439995251391,\n",
              " 0.6268331340431812,\n",
              " 0.6302548160485724,\n",
              " 0.6317234412103845,\n",
              " 0.63884887936498,\n",
              " 0.6475533195202721,\n",
              " 0.6440396568158111,\n",
              " 0.63696020901075,\n",
              " 0.6437913089283229,\n",
              " 0.6478445917339923,\n",
              " 0.6485405790236192,\n",
              " 0.6485405790236192,\n",
              " 0.6643673913102044,\n",
              " 0.66470465387346,\n",
              " 0.660675899254209,\n",
              " 0.6596702436110478,\n",
              " 0.6689173698908502,\n",
              " 0.6706067487304292,\n",
              " 0.6706067487304292,\n",
              " 0.6680742134827116,\n",
              " 0.6548259267933789,\n",
              " 0.6404125512491643,\n",
              " 0.6437913089283229,\n",
              " 0.6460233738924133,\n",
              " 0.6433804618058117,\n",
              " 0.6433804618058117,\n",
              " 0.6465200696673896,\n",
              " 0.6588332192495139,\n",
              " 0.6641987600285766,\n",
              " 0.6576619983480267,\n",
              " 0.6544917302534261,\n",
              " 0.6546572955117511,\n",
              " 0.6546572955117511,\n",
              " 0.6528268796002654,\n",
              " 0.6454438954882746,\n",
              " 0.6504997679138034,\n",
              " 0.6563252121882146,\n",
              " 0.6600044401510006,\n",
              " 0.6604060892036048,\n",
              " 0.6604060892036048,\n",
              " 0.6549914920517044,\n",
              " 0.6579961948879796,\n",
              " 0.6702694861671741,\n",
              " 0.672127496288381,\n",
              " 0.6767081351020499,\n",
              " 0.6763678065154919,\n",
              " 0.6763678065154919,\n",
              " 0.6717902337251258,\n",
              " 0.6665565319480622,\n",
              " 0.676539503820422,\n",
              " 0.6767081351020499,\n",
              " 0.6818191959470201,\n",
              " 0.6821595245335781,\n",
              " 0.6821595245335781,\n",
              " 0.6881536000896171,\n",
              " 0.6960762043028164,\n",
              " 0.6855812065389693,\n",
              " 0.6836986682313435,\n",
              " 0.6874668108698969,\n",
              " 0.6886686920044072,\n",
              " 0.6886686920044072,\n",
              " 0.6926269280877049,\n",
              " 0.6962509676310493,\n",
              " 0.7071936047970355,\n",
              " 0.7042318262869929,\n",
              " 0.7136690460115391,\n",
              " 0.7228218832778246,\n",
              " 0.7286253338433777,\n",
              " 0.731079397708198,\n",
              " 0.7306511178549384,\n",
              " 0.730142752179513,\n",
              " 0.730021343664575,\n",
              " 0.7302868923101233,\n",
              " 0.730998209716262,\n",
              " 0.730998209716262,\n",
              " 0.7254885658419898,\n",
              " 0.73438923148863,\n",
              " 0.7390434548615545,\n",
              " 0.7372498312296962,\n",
              " 0.7411988692430869,\n",
              " 0.7403005244155063,\n",
              " 0.7403005244155063,\n",
              " 0.741735423320993,\n",
              " 0.7415575939694581,\n",
              " 0.7451571053263841,\n",
              " 0.7569367668539042,\n",
              " 0.7596716596395756,\n",
              " 0.7578473757746942,\n",
              " 0.7578473757746942,\n",
              " 0.7541712138352101,\n",
              " 0.7377894513309051,\n",
              " 0.7509426912978656,\n",
              " 0.7505809005481912,\n",
              " 0.7550818227559997,\n",
              " 0.7573016236268806,\n",
              " 0.7573016236268806,\n",
              " 0.7651598413507317,\n",
              " 0.7560261579331147,\n",
              " 0.7408370784934124,\n",
              " 0.7578473757746942,\n",
              " 0.7623574960524093,\n",
              " 0.7627775412448277,\n",
              " 0.7631149942934259,\n",
              " 0.7635532519087185,\n",
              " 0.7640923140907054,\n",
              " 0.7647321808393859,\n",
              " 0.7654728521547607,\n",
              " 0.7663143280368294,\n",
              " 0.767256608485593,\n",
              " 0.7682996935010504,\n",
              " 0.7694435830832014,\n",
              " 0.7706882772320471,\n",
              " 0.7720337759475864,\n",
              " 0.7734800792298204,\n",
              " 0.7750271870787484,\n",
              " 0.7766750994943712,\n",
              " 0.778423816476687,\n",
              " 0.7802733380256976,\n",
              " 0.7822236641414022,\n",
              " 0.7842747948238011,\n",
              " 0.786426730072894,\n",
              " 0.7886794698886808,\n",
              " 0.7910330142711623,\n",
              " 0.7934873632203379,\n",
              " 0.7960425167362073,\n",
              " 0.7984088049464526,\n",
              " 0.8002965579787553,\n",
              " 0.8017057758331168,\n",
              " 0.8026364585095356,\n",
              " 0.8030886060080114,\n",
              " 0.8030622183285454,\n",
              " 0.8025572954711373,\n",
              " 0.8015738374357861,\n",
              " 0.8001118442224937,\n",
              " 0.7981713158312578,\n",
              " 0.7957522522620806,\n",
              " 0.7928546535149608,\n",
              " 0.7894785195898988,\n",
              " 0.7856238504868942,\n",
              " 0.7812906462059479,\n",
              " 0.7764789067470581,\n",
              " 0.771188632110227,\n",
              " 0.7654198222954534,\n",
              " 0.7591724773027375,\n",
              " 0.7524465971320791,\n",
              " 0.745242181783478,\n",
              " 0.7375592312569357,\n",
              " 0.7293977455524503,\n",
              " 0.7219473089278081,\n",
              " 0.7221251382793425,\n",
              " 0.7279751107401726,\n",
              " 0.7279751107401726,\n",
              " 0.7219473089278081,\n",
              " 0.729931233607054,\n",
              " 0.7395800089394606,\n",
              " 0.7411988692430869,\n",
              " 0.7534813585921876,\n",
              " 0.7523929203198636,\n",
              " 0.7523929203198636,\n",
              " 0.7511235866727024,\n",
              " 0.7498754726745698,\n",
              " 0.7490362224743674,\n",
              " 0.7486058360720957,\n",
              " 0.7485843134677548,\n",
              " 0.7489716546613445,\n",
              " 0.7497678596528645,\n",
              " 0.7509729284423157,\n",
              " 0.7525868610296962,\n",
              " 0.7546096574150079,\n",
              " 0.7570413175982498,\n",
              " 0.7598818415794228,\n",
              " 0.7631312293585262,\n",
              " 0.7666942872355238,\n",
              " 0.7699998530102008,\n",
              " 0.7729527329825212,\n",
              " 0.7755529271524846,\n",
              " 0.7778004355200909,\n",
              " 0.779695258085342,\n",
              " 0.7812373948482352,\n",
              " 0.7824268458087722,\n",
              " 0.7832636109669513,\n",
              " 0.7837476903227747,\n",
              " 0.7838790838762415,\n",
              " 0.7836577916273517,\n",
              " 0.7830838135761049,\n",
              " 0.7821548085155012,\n",
              " 0.7821548085155012,\n",
              " 0.7877472350189361,\n",
              " 0.785134983165358,\n",
              " 0.7903656189191188,\n",
              " 0.7903656189191188,\n",
              " 0.7815967922744786,\n",
              " 0.7801097709728528,\n",
              " 0.7801097709728528,\n",
              " 0.7899915640762358,\n",
              " 0.8055976226850536,\n",
              " 0.8036844241444048,\n",
              " 0.79976911238734,\n",
              " 0.7986377497887831,\n",
              " 0.7986377497887831,\n",
              " 0.7986377497887831,\n",
              " 0.7995790189425962,\n",
              " 0.804877107209008,\n",
              " 0.8101170935964339,\n",
              " 0.8144464042278245,\n",
              " 0.8178650391031816,\n",
              " 0.8203729982225043,\n",
              " 0.8219702815857912,\n",
              " 0.8226568891930441,\n",
              " 0.8224328210442626,\n",
              " 0.8212980771394458,\n",
              " 0.8192526574785963,\n",
              " 0.8162965620617111,\n",
              " 0.8124297908887914,\n",
              " 0.8084648639735394,\n",
              " 0.8052143013296573,\n",
              " 0.8026781029571446,\n",
              " 0.8008562688560017,\n",
              " 0.7997487990262291,\n",
              " 0.7993556934678254,\n",
              " 0.7996769521807916,\n",
              " 0.8007125751651272,\n",
              " 0.8024625624208326,\n",
              " 0.8049269139479083,\n",
              " 0.8081056297463534,\n",
              " 0.8118369801052785,\n",
              " 0.8147772964522051,\n",
              " 0.8149673898969494,\n",
              " 0.8149673898969494,\n",
              " 0.8157308296992272,\n",
              " 0.8124839110220685,\n",
              " 0.8126740044668128,\n",
              " 0.8048403149293801,\n",
              " 0.8122938175773247,\n",
              " 0.8121037241325808,\n",
              " 0.7869991253331701,\n",
              " 0.7877472350189361,\n",
              " 0.7929932008892087,\n",
              " 0.8022249970524997,\n",
              " 0.8022249970524997,\n",
              " 0.8022249970524997,\n",
              " 0.8141058373489971,\n",
              " 0.8205230241207564,\n",
              " 0.8189900124695952,\n",
              " 0.8261829031368422,\n",
              " 0.8261829031368422,\n",
              " 0.8261829031368422,\n",
              " 0.8261829031368422,\n",
              " 0.8237362165415896,\n",
              " 0.8230218331121486,\n",
              " 0.8232732470229391,\n",
              " 0.8268788904264694,\n",
              " 0.8262994120223308,\n",
              " 0.8270720498945157,\n",
              " 0.8270720498945157,\n",
              " 0.8262994120223308,\n",
              " 0.8270720498945157,\n",
              " 0.8270720498945157,\n",
              " 0.8253336146820993,\n",
              " 0.8328790980291132,\n",
              " 0.8328790980291132,\n",
              " 0.8328790980291132,\n",
              " 0.834430505820088,\n",
              " 0.8317140091742308,\n",
              " 0.8336548019246004,\n",
              " 0.8526334861659726,\n",
              " 0.8619358008652169,\n",
              " 0.8601483092799633,\n",
              " 0.8601483092799633,\n",
              " 0.8500702906852318,\n",
              " 0.858563175232663,\n",
              " 0.8695058123986497,\n",
              " 0.8765239397376641,\n",
              " 0.8765239397376641,\n",
              " 0.8765239397376641,\n",
              " 0.8765239397376641,\n",
              " 0.8753159265565496,\n",
              " 0.8817607075380296,\n",
              " 0.8827694292044936,\n",
              " 0.8882361487525332,\n",
              " 0.9000618006295886,\n",
              " 0.8980167630869398,\n",
              " 0.8935782781359067,\n",
              " 0.8893098845003264,\n",
              " 0.8852115821801989,\n",
              " 0.8812833711755237,\n",
              " 0.8775252514863012,\n",
              " 0.8739372231125311,\n",
              " 0.8705192860542137,\n",
              " 0.8672714403113491,\n",
              " 0.8642414022271636,\n",
              " 0.8614768881448842,\n",
              " 0.8589778980645109,\n",
              " 0.8567444319860427,\n",
              " 0.854776489909481,\n",
              " 0.8530740718348249,\n",
              " 0.8516371777620753,\n",
              " 0.8504658076912313,\n",
              " 0.8495599616222933,\n",
              " 0.8489196395552605,\n",
              " 0.8485448414901346,\n",
              " 0.8484355674269144,\n",
              " 0.8485918173655993,\n",
              " 0.8490135913061911,\n",
              " 0.8497008892486886,\n",
              " 0.8506537111930916,\n",
              " 0.8518720571394007,\n",
              " 0.8533559270876159,\n",
              " 0.8551053210377371,\n",
              " 0.8571202389897639,\n",
              " 0.8594006809436967,\n",
              " 0.8618814895999887,\n",
              " 0.864171721161364,\n",
              " 0.8662062183282766,\n",
              " 0.8679849811007239,\n",
              " 0.8695080094787089,\n",
              " 0.8707753034622303,\n",
              " 0.8717868630512882,\n",
              " 0.8725426882458833,\n",
              " 0.873042779046014,\n",
              " 0.8732871354516811,\n",
              " 0.8732757574628855,\n",
              " 0.8730086450796255,\n",
              " 0.8724857983019028,\n",
              " 0.8717072171297164,\n",
              " 0.8738534334413417,\n",
              " 0.8882361487525332,\n",
              " 0.8689079378546969,\n",
              " 0.8635056047960059,\n",
              " 0.8777288868954767,\n",
              " 0.8781305359480809,\n",
              " 0.8781305359480809,\n",
              " 0.8755182840945028,\n",
              " 0.872439264906163,\n",
              " 0.8694228471780379,\n",
              " 0.8664690309101275,\n",
              " 0.8635778161024323,\n",
              " 0.8607492027549524,\n",
              " 0.8579831908676863,\n",
              " 0.8552797804406358,\n",
              " 0.8526389714737992,\n",
              " 0.8500607639671782,\n",
              " 0.8475451579207716,\n",
              " 0.8450921533345801,\n",
              " 0.8427017502086029,\n",
              " 0.8403739485428405,\n",
              " 0.8381087483372938,\n",
              " 0.8359061495919609,\n",
              " 0.8337661523068436,\n",
              " 0.8316887564819411,\n",
              " 0.8296739621172529,\n",
              " 0.8277217692127798,\n",
              " 0.8258321777685211,\n",
              " 0.8240051877844776,\n",
              " 0.8222407992606489,\n",
              " 0.8205390121970348,\n",
              " 0.8188998265936356,\n",
              " 0.8173699241029839,\n",
              " 0.8162293946402739,\n",
              " 0.8155249198580388,\n",
              " 0.8152564997562777,\n",
              " 0.8154241343349906,\n",
              " 0.8160278235941785,\n",
              " 0.8170675675338399,\n",
              " 0.8185433661539767,\n",
              " 0.8204552194545871,\n",
              " 0.8228031274356724,\n",
              " 0.8255870900972322,\n",
              " 0.8288071074392664,\n",
              " 0.8324631794617747,\n",
              " 0.8365553061647579,\n",
              " 0.8410834875482147,\n",
              " 0.8460477236121464,\n",
              " 0.8514480143565522,\n",
              " 0.8572843597814328,\n",
              " 0.863556759886787,\n",
              " 0.8702652146726166,\n",
              " 0.8774097241389203,\n",
              " 0.8849902882856975,\n",
              " 0.8930069071129505,\n",
              " 0.9014595806206771,\n",
              " 0.9103483088088782,\n",
              " 0.9173878983110091,\n",
              " 0.9136565479520835,\n",
              " 0.9220697158936544,\n",
              " 0.9259329052545799,\n",
              " 0.9215484919322596,\n",
              " 0.9215484919322596,\n",
              " 0.9427715052309311,\n",
              " 0.9411833051603289,\n",
              " 0.9465488459393916,\n",
              " 0.9167654955806375,\n",
              " 0.8813697656274584,\n",
              " 0.8468593766553922,\n",
              " 0.8132343286644386,\n",
              " 0.7804946216545978,\n",
              " 0.7486402556258696,\n",
              " 0.7176712305782542,\n",
              " 0.6875875465117514,\n",
              " 0.658389203426361,\n",
              " 0.630076201322084,\n",
              " 0.602648540198919,\n",
              " 0.576106220056867,\n",
              " 0.550449240895927,\n",
              " 0.5256776027161003,\n",
              " 0.5017913055173866,\n",
              " 0.47879034929978403,\n",
              " 0.4566747340632962,\n",
              " 0.43544445980791946,\n",
              " 0.41509952653365567,\n",
              " 0.39563993424050437,\n",
              " 0.37706568292846643,\n",
              " 0.35937677259754097,\n",
              " 0.3425732032477282,\n",
              " 0.32665497487902795,\n",
              " 0.31162208749143994,\n",
              " 0.29747454108496574,\n",
              " 0.28421233565960313,\n",
              " 0.2718354712153539,\n",
              " 0.26034394775221625,\n",
              " 0.24973776527019265,\n",
              " 0.24001692376928108,\n",
              " 0.231181423249482,\n",
              " 0.22323126371079582,\n",
              " 0.2161664451532217,\n",
              " 0.20998696757676116,\n",
              " 0.20469283098141244,\n",
              " 0.20028403536717732,\n",
              " 0.19676058073405422,\n",
              " 0.19412246708204406,\n",
              " 0.19236969441114593,\n",
              " 0.1915022627213614,\n",
              " 0.19152017201268934,\n",
              " 0.19242342228512932,\n",
              " 0.19421201353868223,\n",
              " 0.19688594577334806,\n",
              " 0.20044521898912637,\n",
              " 0.2048898331860174,\n",
              " 0.2102197883640209,\n",
              " 0.2164350845231373,\n",
              " 0.22353572166336622,\n",
              " 0.23152169978470805,\n",
              " 0.24039301888716214,\n",
              " 0.25014967897072915,\n",
              " 0.2607916800354091,\n",
              " 0.27231902208120107,\n",
              " 0.2847317051081064,\n",
              " 0.2980297291161238,\n",
              " 0.31221309410525433,\n",
              " 0.3271466031583572,\n",
              " 0.34201907477258975,\n",
              " 0.35669531203081295,\n",
              " 0.3711753149330257,\n",
              " 0.3854590834792291,\n",
              " 0.39954661766942245,\n",
              " 0.41343791750360537,\n",
              " 0.42713298298177826,\n",
              " 0.4406318141039416,\n",
              " 0.45393441087009445,\n",
              " 0.4670407732802382,\n",
              " 0.47995090133437146,\n",
              " 0.4926647950324947,\n",
              " 0.5051824543746084,\n",
              " 0.5175038793607121,\n",
              " 0.5296290699908053,\n",
              " 0.5415580262648889,\n",
              " 0.5532907481829625,\n",
              " 0.5648272357450252,\n",
              " 0.5761674889510793,\n",
              " 0.5873115078011228,\n",
              " 0.5982592922951564,\n",
              " 0.6090108424331799,\n",
              " 0.6195661582151939,\n",
              " 0.6299252396411974,\n",
              " 0.6400880867111913,\n",
              " 0.6500546994251752,\n",
              " 0.6598250777831487,\n",
              " 0.669399221785113,\n",
              " 0.6787771314310664,\n",
              " 0.6879588067210107,\n",
              " 0.696944247654945,\n",
              " 0.7057334542328688,\n",
              " 0.7143264264547826,\n",
              " 0.7227231643206868,\n",
              " 0.7309236678305806,\n",
              " 0.7389279369844648,\n",
              " 0.746735971782339,\n",
              " 0.7543477722242027,\n",
              " 0.7617633383100573,\n",
              " 0.7689826700399018,\n",
              " 0.7760057674137364,\n",
              " 0.7828326304315605,\n",
              " 0.789463259093375,\n",
              " 0.7958976533991786,\n",
              " 0.8021358133489727,\n",
              " 0.8081777389427576,\n",
              " 0.814023430180532,\n",
              " 0.8196728870622965,\n",
              " 0.8251261095880509,\n",
              " 0.8303830977577957,\n",
              " 0.8354438515715306,\n",
              " 0.8403083710292549,\n",
              " 0.8449766561309693,\n",
              " 0.8494487068766745,\n",
              " 0.8537245232663688,\n",
              " 0.8578041053000536,\n",
              " 0.8616874529777288,\n",
              " 0.8625306093858673,\n",
              " 0.8498740651938828,\n",
              " 0.8550004561553652,\n",
              " 0.8540315927918314,\n",
              " 0.8514500011712764,\n",
              " 0.8274583688306085,\n",
              " 0.8249503617693092,\n",
              " 0.8365705900851086,\n",
              " 0.8190850591919674,\n",
              " 0.8249503617693092,\n",
              " 0.8197565182951758,\n",
              " 0.8283260534251651,\n",
              " 0.8319436212451794,\n",
              " 0.8283298222540234,\n",
              " 0.8288104851069324,\n",
              " 0.833847961392647,\n",
              " 0.8354024352069243,\n",
              " 0.8355986606982728,\n",
              " 0.8377387449632934,\n",
              " 0.8424205625459387,\n",
              " 0.851054484165277,\n",
              " 0.8512537756799279,\n",
              " 0.8435948494707282,\n",
              " 0.8426167880372872,\n",
              " 0.8320052813879515,\n",
              " 0.8193732653823858,\n",
              " 0.8270720498945157,\n",
              " 0.8402743462343134,\n",
              " 0.8389068998414781,\n",
              " 0.8381281299226881,\n",
              " 0.8381281299226881,\n",
              " 0.825143521237355,\n",
              " 0.8309965597214879,\n",
              " 0.8134374442690906,\n",
              " 0.8230218331121486,\n",
              " 0.8324897130697184,\n",
              " 0.8398977297909094,\n",
              " 0.8460119355951894,\n",
              " 0.8508323304825567,\n",
              " 0.8543589144530135,\n",
              " 0.8565916875065593,\n",
              " 0.8575306496431934,\n",
              " 0.8571758008629164,\n",
              " 0.8555271411657277,\n",
              " 0.8525846705516285,\n",
              " 0.8490982208956186,\n",
              " 0.8458176240727024,\n",
              " 0.8427428800828791,\n",
              " 0.8398739889261477,\n",
              " 0.83721095060251,\n",
              " 0.8347537651119648,\n",
              " 0.8325024324545127,\n",
              " 0.8304569526301531,\n",
              " 0.8286173256388858,\n",
              " 0.8270720498945157,\n",
              " 0.8262994120223308,\n",
              " 0.8260112058319125,\n",
              " 0.82562488689582,\n",
              " 0.824177723897124,\n",
              " 0.8237944709843334,\n",
              " 0.8330722574971594,\n",
              " 0.8436742022422183,\n",
              " 0.8539283350634188,\n",
              " 0.8638346559607613,\n",
              " 0.8733931649342457,\n",
              " 0.8826038619838721,\n",
              " 0.8914667471096405,\n",
              " 0.8999818203115508,\n",
              " 0.9081490815896032,\n",
              " 0.9159685309437975,\n",
              " 0.9234401683741347,\n",
              " 0.9305639938806125,\n",
              " 0.9373400074632328,\n",
              " 0.9437682091219959,\n",
              " 0.9498485988568997,\n",
              " 0.9555811766679463,\n",
              " 0.9609659425551349,\n",
              " 0.966002896518465,\n",
              " 0.9706920385579376,\n",
              " 0.9750333686735522,\n",
              " 0.9790268868653083,\n",
              " 0.9826725931332068,\n",
              " 0.9859704874772472,\n",
              " 0.9889205698974297,\n",
              " 0.9915228403937533,\n",
              " 0.9937772989662197,\n",
              " 0.9956839456148281,\n",
              " 0.997242780339578,\n",
              " 0.9984538031404713,\n",
              " 0.9993170140175052,\n",
              " 0.9998324129706815,\n",
              " 0.9999999999999998,\n",
              " 0.99981977510546,\n",
              " 0.9992917382870623,\n",
              " 0.9984158895448065,\n",
              " 0.9971922288786923,\n",
              " 0.9956207562887209,\n",
              " 0.9937014717748915,\n",
              " 0.9914343753372037,\n",
              " 0.9888194669756578,\n",
              " 0.9858567466902539,\n",
              " 0.982546214480992,\n",
              " 0.978887870347873,\n",
              " 0.974881714290895,\n",
              " 0.9705277463100586,\n",
              " 0.965825966405365,\n",
              " 0.9607763745768134,\n",
              " 0.9553789708244034,\n",
              " 0.9496973409505236,\n",
              " 0.9441129997695052,\n",
              " 0.9386895330837348,\n",
              " 0.9334269408932132,\n",
              " 0.9283252231979409,\n",
              " 0.9233843799979169,\n",
              " 0.9186044112931417,\n",
              " 0.9139853170836167,\n",
              " 0.9095270973693383,\n",
              " 0.905229752150311,\n",
              " 0.9010932814265316,\n",
              " 0.8971176851980001,\n",
              " 0.8933029634647183,\n",
              " 0.8896491162266857,\n",
              " 0.8861561434839007,\n",
              " 0.8828240452363658,\n",
              " 0.8796528214840793,\n",
              " 0.8766424722270412,\n",
              " 0.8737929974652527,\n",
              " 0.8711043971987131,\n",
              " 0.8685766714274206,\n",
              " 0.8662098201513786,\n",
              " 0.864003843370585,\n",
              " 0.8619587410850398,\n",
              " 0.8600745132947443,\n",
              " 0.8583511599996971,\n",
              " 0.8567886811998988,\n",
              " 0.8553870768953493,\n",
              " 0.8541463470860486,\n",
              " 0.8530664917719968,\n",
              " 0.8521475109531937,\n",
              " 0.85138940462964,\n",
              " 0.8507921728013341,\n",
              " 0.8503558154682775,\n",
              " 0.8500803326304707,\n",
              " 0.8499657242879113,\n",
              " 0.8500119904406012,\n",
              " 0.8502191310885403,\n",
              " 0.8505871462317278,\n",
              " 0.8511160358701637,\n",
              " 0.8518058000038493,\n",
              " 0.8526564386327833,\n",
              " 0.8536679517569665,\n",
              " 0.8548403393763986,\n",
              " 0.856173601491079,\n",
              " 0.8576677381010087,\n",
              " 0.8593227492061868,\n",
              " 0.8611386348066137,\n",
              " 0.8627299009005183,\n",
              " 0.8627299009005183,\n",
              " 0.8651980496588874,\n",
              " 0.8633063132813545,\n",
              " 0.8559877156587128,\n",
              " 0.8560888944276892,\n",
              " 0.8571742666767113,\n",
              " 0.8542094221433663,\n",
              " 0.8544087136580167,\n",
              " 0.8467313913090033,\n",
              " 0.8486967122457914,\n",
              " 0.8396090191777097,\n",
              " 0.8394925102922215,\n",
              " 0.8392962848008729,\n",
              " 0.8400781207429648,\n",
              " 0.8471238422917,\n",
              " 0.8438707915679367,\n",
              " 0.8520417436686245,\n",
              " 0.8475162932743976,\n",
              " 0.8443797514361224,\n",
              " 0.841053116153103,\n",
              " 0.8412677377842657,\n",
              " 0.8389068998414781,\n",
              " 0.8506620331825798,\n",
              " 0.8526334861659726,\n",
              " 0.8525407044365594,\n",
              " 0.8525019562784995,\n",
              " 0.8525172416917919,\n",
              " 0.8525865606764371,\n",
              " 0.8527099132324361,\n",
              " 0.8528872993597878,\n",
              " 0.8531187190584932,\n",
              " 0.853404172328551,\n",
              " 0.8542345285116795,\n",
              " 0.8561006569495959,\n",
              " 0.8590025576423013,\n",
              " 0.8629402305897946,\n",
              " 0.867913675792076,\n",
              " 0.8739228932491458,\n",
              " 0.8809678829610033,\n",
              " 0.8890486449276487,\n",
              " 0.8945429586854095,\n",
              " 0.88378121689426,\n",
              " 0.8945429586854095,\n",
              " 0.8947882405495953,\n",
              " 0.8894564260268576,\n",
              " 0.8862493656526287,\n",
              " 0.8813253322290999,\n",
              " 0.8918755184123894,\n",
              " 0.8894564260268576,\n",
              " 0.8876290761386738,\n",
              " 0.8872642193656974,\n",
              " 0.8870144978920964,\n",
              " 0.8867189275909297,\n",
              " 0.8863775084621961,\n",
              " 0.8859902405058955,\n",
              " 0.8855571237220288,\n",
              " 0.8850781581105955,\n",
              " 0.8845533436715958,\n",
              " 0.8839826804050295,\n",
              " 0.8833661683108962,\n",
              " 0.8827038073891964,\n",
              " 0.8819955976399305,\n",
              " 0.8812415390630981,\n",
              " 0.8806358559824063,\n",
              " 0.8803727727215624,\n",
              " 0.8804522892805668,\n",
              " 0.8808744056594187,\n",
              " 0.8816391218581183,\n",
              " 0.882746437876665,\n",
              " 0.8841963537150612,\n",
              " 0.885988869373304,\n",
              " 0.8881239848513951,\n",
              " 0.890601700149334,\n",
              " 0.8934220152671208,\n",
              " 0.8965849302047555,\n",
              " 0.8996540195303797,\n",
              " 0.9004205253559603,\n",
              " 0.9006780713133551,\n",
              " 0.8994884542720543,\n",
              " 0.8969927113039644,\n",
              " 0.8945582813969299,\n",
              " 0.8924090181995277,\n",
              " 0.8905449217117567,\n",
              " 0.8889659919336179,\n",
              " 0.8876722288651109,\n",
              " 0.8866636325062356,\n",
              " 0.8859402028569925,\n",
              " 0.8855019399173807,\n",
              " 0.8853488436874015,\n",
              " 0.8854809141670541,\n",
              " 0.885898151356338,\n",
              " 0.8866005552552545,\n",
              " 0.8875881258638028,\n",
              " 0.8888608631819828,\n",
              " 0.8904187672097941,\n",
              " 0.892214775763726,\n",
              " 0.8939665157427104,\n",
              " 0.8956269249632338,\n",
              " 0.8971960034252977,\n",
              " 0.8986737511289011,\n",
              " 0.900060168074045,\n",
              " 0.9013552542607288,\n",
              " 0.9025590096889522,\n",
              " 0.903671434358716,\n",
              " 0.9046925282700198,\n",
              " 0.905622291422864,\n",
              " 0.9064607238172477,\n",
              " 0.907207825453171,\n",
              " 0.9078635963306352,\n",
              " 0.9084280364496389,\n",
              " 0.9089011458101826,\n",
              " 0.9089011458101826,\n",
              " 0.9077667171883232,\n",
              " 0.9123197617922714,\n",
              " 0.9106242509060871,\n",
              " 0.909725906078507,\n",
              " 0.9043726293926528,\n",
              " 0.9055039919912098,\n",
              " 0.9037563587088864,\n",
              " 0.9044738081616297,\n",
              " 0.9002672241908443,\n",
              " 0.9013035400670291,\n",
              " 0.9002672241908443,\n",
              " 0.8994485959691241,\n",
              " 0.903961782270142,\n",
              " 0.9045780529539085,\n",
              " 0.9056143688300933,\n",
              " 0.9027292409026086,\n",
              " 0.8888554854596025,\n",
              " 0.8918939145522031,\n",
              " 0.891489199476297,\n",
              " 0.8851977196599325,\n",
              " 0.8870189375015116,\n",
              " 0.8930467393138761,\n",
              " 0.900788448152239,\n",
              " 0.8965941282746626,\n",
              " 0.8960729043132678,\n",
              " 0.8963795066434999,\n",
              " 0.8942486204483864,\n",
              " 0.8962875259444305,\n",
              " 0.8987566728560374,\n",
              " 0.9008085919789386,\n",
              " 0.9024432833131331,\n",
              " 0.9036607468586217,\n",
              " 0.9044609826154033,\n",
              " 0.9048439905834791,\n",
              " 0.9048097707628482,\n",
              " 0.9043583231535115,\n",
              " 0.9034896477554686,\n",
              " 0.902203744568719,\n",
              " 0.9005006135932627,\n",
              " 0.8983802548291007,\n",
              " 0.8958426682762324,\n",
              " 0.8928878539346574,\n",
              " 0.8895158118043758,\n",
              " 0.8858221680385074,\n",
              " 0.8823806795557647,\n",
              " 0.8792869725092671,\n",
              " 0.8765410468990138,\n",
              " 0.8741429027250056,\n",
              " 0.8720925399872417,\n",
              " 0.8703899586857229,\n",
              " 0.8690351588204484,\n",
              " 0.868028140391419,\n",
              " 0.8673689033986347,\n",
              " 0.8670574478420947,\n",
              " 0.8670937737217999,\n",
              " 0.8674778810377488,\n",
              " 0.8682097697899434,\n",
              " 0.8692894399783822,\n",
              " 0.8707168916030665,\n",
              " 0.8723081576969716,\n",
              " 0.8721088661823206,\n",
              " 0.8675588876016753,\n",
              " 0.8715661800578098,\n",
              " 0.871507925615066,\n",
              " 0.868368317753488,\n",
              " 0.8717378773627396,\n",
              " 0.8717072171297164,\n",
              " 0.8717072171297164,\n",
              " 0.8693065208839987,\n",
              " 0.8669119566848853,\n",
              " 0.8711062765624613,\n",
              " 0.8762696715086145,\n",
              " 0.8812592216959361,\n",
              " 0.8860749271244279,\n",
              " 0.8907167877940891,\n",
              " 0.8951848037049188,\n",
              " 0.8994789748569179,\n",
              " 0.9035993012500863,\n",
              " 0.9075457828844236,\n",
              " 0.9113184197599307,\n",
              " 0.9149172118766067,\n",
              " 0.9183421592344516,\n",
              " 0.9215932618334668,\n",
              " ...]"
            ]
          },
          "metadata": {},
          "execution_count": 46
        }
      ],
      "source": [
        "temp_input"
      ]
    },
    {
      "cell_type": "code",
      "execution_count": 47,
      "metadata": {
        "id": "jS7Tw6_t7E83"
      },
      "outputs": [],
      "source": [
        "day_new=np.arange(1,101)\n",
        "day_pred=np.arange(101,131)"
      ]
    },
    {
      "cell_type": "code",
      "execution_count": 48,
      "metadata": {
        "id": "kEYsZQsl7E83"
      },
      "outputs": [],
      "source": [
        "import matplotlib.pyplot as plt"
      ]
    },
    {
      "cell_type": "code",
      "execution_count": 49,
      "metadata": {
        "colab": {
          "base_uri": "https://localhost:8080/"
        },
        "id": "gwWpmnoo7E83",
        "outputId": "40b19b5b-5fa9-432a-f2e3-a889dde326e2"
      },
      "outputs": [
        {
          "output_type": "execute_result",
          "data": {
            "text/plain": [
              "7488"
            ]
          },
          "metadata": {},
          "execution_count": 49
        }
      ],
      "source": [
        "len(df1)"
      ]
    },
    {
      "cell_type": "code",
      "execution_count": 52,
      "metadata": {
        "colab": {
          "base_uri": "https://localhost:8080/",
          "height": 447
        },
        "id": "USm5SpGF7E83",
        "outputId": "055e73d9-c495-4da6-86e7-d0a70c062fea"
      },
      "outputs": [
        {
          "output_type": "execute_result",
          "data": {
            "text/plain": [
              "[<matplotlib.lines.Line2D at 0x7c2afc091d80>]"
            ]
          },
          "metadata": {},
          "execution_count": 52
        },
        {
          "output_type": "display_data",
          "data": {
            "text/plain": [
              "<Figure size 640x480 with 1 Axes>"
            ],
            "image/png": "[encoded data removed]"
          },
          "metadata": {}
        }
      ],
      "source": [
        "df3=df1.tolist()\n",
        "df3.extend(df3)\n",
        "plt.plot(df3[1200:])"
      ]
    },
    {
      "cell_type": "code",
      "execution_count": 53,
      "metadata": {
        "id": "L6lE5Sd87E83"
      },
      "outputs": [],
      "source": [
        "df3=scaler.inverse_transform(df3).tolist()"
      ]
    },
    {
      "cell_type": "code",
      "execution_count": 54,
      "metadata": {
        "colab": {
          "base_uri": "https://localhost:8080/",
          "height": 447
        },
        "id": "OphXZp9B7E84",
        "outputId": "4389d581-7707-4519-fbde-9385047c155a"
      },
      "outputs": [
        {
          "output_type": "execute_result",
          "data": {
            "text/plain": [
              "[<matplotlib.lines.Line2D at 0x7c2af63d0f40>]"
            ]
          },
          "metadata": {},
          "execution_count": 54
        },
        {
          "output_type": "display_data",
          "data": {
            "text/plain": [
              "<Figure size 640x480 with 1 Axes>"
            ],
            "image/png": "[encoded data removed]"
          },
          "metadata": {}
        }
      ],
      "source": [
        "plt.plot(df3)"
      ]
    },
    {
      "cell_type": "code",
      "execution_count": 60,
      "metadata": {
        "colab": {
          "base_uri": "https://localhost:8080/"
        },
        "id": "AvWV-nCz7E84",
        "outputId": "1484f78e-1499-4c7d-c0e9-2597f478aa5d"
      },
      "outputs": [
        {
          "output_type": "execute_result",
          "data": {
            "text/plain": [
              "[[0.739284],\n",
              " [0.740826],\n",
              " [0.743273],\n",
              " [0.7423],\n",
              " [0.743901],\n",
              " [0.743901],\n",
              " [0.7454430000000001],\n",
              " [0.740881],\n",
              " [0.73645],\n",
              " [0.735713],\n",
              " [0.734646],\n",
              " [0.734422],\n",
              " [0.734422],\n",
              " [0.729703],\n",
              " [0.7302229999999998],\n",
              " [0.7316333115212491],\n",
              " [0.7328705394224247],\n",
              " [0.7339346837035268],\n",
              " [0.7348257443645557],\n",
              " [0.7355437214055106],\n",
              " [0.7360886148263923],\n",
              " [0.7364604246272006],\n",
              " [0.7366591508079353],\n",
              " [0.7366847933685964],\n",
              " [0.7365373523091842],\n",
              " [0.7362168276296985],\n",
              " [0.7357232193301392],\n",
              " [0.7350565274105064],\n",
              " [0.7342167518708003],\n",
              " [0.7332038927110207],\n",
              " [0.7320179499311674],\n",
              " [0.7306589235312407],\n",
              " [0.7291268135112405],\n",
              " [0.7274216198711669],\n",
              " [0.7255433426110197],\n",
              " [0.7234919817307989],\n",
              " [0.7212675372305049],\n",
              " [0.7188700091101374],\n",
              " [0.7162993973696963],\n",
              " [0.7136148357337402],\n",
              " [0.7111711265496212],\n",
              " [0.7090274035418971],\n",
              " [0.7071836667105686],\n",
              " [0.7056399160556355],\n",
              " [0.7043961515770979],\n",
              " [0.7034523732749554],\n",
              " [0.7028085811492084],\n",
              " [0.7024647751998567],\n",
              " [0.7024209554269004],\n",
              " [0.7026771218303394],\n",
              " [0.7032332744101739],\n",
              " [0.7040894131664036],\n",
              " [0.7052455380990289],\n",
              " [0.7067016492080493],\n",
              " [0.7084577464934654],\n",
              " [0.7105138299552767],\n",
              " [0.7128698995934832],\n",
              " [0.7155259554080852],\n",
              " [0.7184819973990827],\n",
              " [0.7217380255664754],\n",
              " [0.7252940399102632],\n",
              " [0.729150040430447],\n",
              " [0.7333060271270259],\n",
              " [0.7377619999999999],\n",
              " [0.741444],\n",
              " [0.739916],\n",
              " [0.7426499999999999],\n",
              " [0.743163],\n",
              " [0.743163],\n",
              " [0.743262],\n",
              " [0.7403239999999999],\n",
              " [0.739875],\n",
              " [0.740944],\n",
              " [0.742785],\n",
              " [0.743337],\n",
              " [0.743337],\n",
              " [0.739943],\n",
              " [0.743152],\n",
              " [0.7472951664017247],\n",
              " [0.7510903081735739],\n",
              " [0.7545374253155481],\n",
              " [0.7576365178276468],\n",
              " [0.7603875857098703],\n",
              " [0.7627906289622182],\n",
              " [0.7648456475846911],\n",
              " [0.7665526415772884],\n",
              " [0.7679116109400105],\n",
              " [0.7689225556728574],\n",
              " [0.7695854757758287],\n",
              " [0.769900371248925],\n",
              " [0.7698672420921457],\n",
              " [0.7694860883054911],\n",
              " [0.7687569098889613],\n",
              " [0.7676797068425562],\n",
              " [0.7662544791662758],\n",
              " [0.7646735457518203],\n",
              " [0.7631292254908905],\n",
              " [0.7616215183834859],\n",
              " [0.760150424429607],\n",
              " [0.7587159436292534],\n",
              " [0.7573180759824256],\n",
              " [0.755956821489123],\n",
              " [0.754632180149346],\n",
              " [0.7533441519630945],\n",
              " [0.7520927369303684],\n",
              " [0.750877935051168],\n",
              " [0.7496997463254929],\n",
              " [0.7485581707533433],\n",
              " [0.7474532083347192],\n",
              " [0.7463848590696205],\n",
              " [0.7453531229580476],\n",
              " [0.744358],\n",
              " [0.7433994901954777],\n",
              " [0.7424775935444812],\n",
              " [0.74159231004701],\n",
              " [0.7407436397030643],\n",
              " [0.739931582512644],\n",
              " [0.7391561384757495],\n",
              " [0.7384173075923802],\n",
              " [0.7377150898625364],\n",
              " [0.7370494852862183],\n",
              " [0.7364204938634255],\n",
              " [0.7358281155941582],\n",
              " [0.7352723504784163],\n",
              " [0.7347531985162001],\n",
              " [0.7342706597075095],\n",
              " [0.7338247340523442],\n",
              " [0.7334250818722693],\n",
              " [0.7330813634888492],\n",
              " [0.7327935789020843],\n",
              " [0.7325617281119744],\n",
              " [0.7323858111185194],\n",
              " [0.7322658279217197],\n",
              " [0.7322017785215751],\n",
              " [0.7321936629180856],\n",
              " [0.7322414811112509],\n",
              " [0.7323452331010715],\n",
              " [0.732504918887547],\n",
              " [0.7327205384706776],\n",
              " [0.7329920918504633],\n",
              " [0.7333195790269041],\n",
              " [0.733703],\n",
              " [0.733579],\n",
              " [0.730762],\n",
              " [0.730946],\n",
              " [0.730941],\n",
              " [0.734498],\n",
              " [0.733708],\n",
              " [0.736223],\n",
              " [0.7373000000000001]]"
            ]
          },
          "metadata": {},
          "execution_count": 60
        }
      ],
      "source": [
        "df3[-150:]\n"
      ]
    },
    {
      "cell_type": "code",
      "execution_count": null,
      "metadata": {
        "id": "KFTipaZh7E84"
      },
      "outputs": [],
      "source": []
    }
  ],
  "metadata": {
    "kernelspec": {
      "display_name": "Python 3 (ipykernel)",
      "language": "python",
      "name": "python3"
    },
    "language_info": {
      "codemirror_mode": {
        "name": "ipython",
        "version": 3
      },
      "file_extension": ".py",
      "mimetype": "text/x-python",
      "name": "python",
      "nbconvert_exporter": "python",
      "pygments_lexer": "ipython3",
      "version": "3.9.13"
    },
    "colab": {
      "provenance": []
    }
  },
  "nbformat": 4,
  "nbformat_minor": 0
}